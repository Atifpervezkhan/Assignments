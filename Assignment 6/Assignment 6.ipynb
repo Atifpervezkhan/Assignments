{
 "cells": [
  {
   "cell_type": "markdown",
   "id": "ef549925-b6b5-44da-9e12-92f999d33241",
   "metadata": {},
   "source": [
    "### Write a Python program to create a class representing a Circle. Include methods to calculate its area and perimeter."
   ]
  },
  {
   "cell_type": "code",
   "execution_count": 2,
   "id": "3908ecd2-8316-45ec-9476-dc2cba0b1f8d",
   "metadata": {},
   "outputs": [
    {
     "name": "stdin",
     "output_type": "stream",
     "text": [
      "Enter the radius of the circle:  20\n"
     ]
    },
    {
     "name": "stdout",
     "output_type": "stream",
     "text": [
      "Area: 1256.6370614359173\n",
      "Perimeter: 125.66370614359172\n"
     ]
    }
   ],
   "source": [
    "import math\n",
    "\n",
    "class Circle:\n",
    "    def __init__(self, radius):\n",
    "        self.radius = radius\n",
    "\n",
    "    def area(self):\n",
    "        return math.pi * self.radius ** 2\n",
    "\n",
    "    def perimeter(self):\n",
    "        return 2 * math.pi * self.radius\n",
    "\n",
    "r = float(input(\"Enter the radius of the circle: \"))\n",
    "c = Circle(r)\n",
    "print(\"Area:\", c.area())\n",
    "print(\"Perimeter:\", c.perimeter())\n"
   ]
  },
  {
   "cell_type": "markdown",
   "id": "dab7eb71-457a-4d57-8327-cb11a91f9cb8",
   "metadata": {},
   "source": [
    "### Write a Python program to create a person class. Include attributes like name, country and date of birth. Implement a method to determine the person's age."
   ]
  },
  {
   "cell_type": "code",
   "execution_count": 4,
   "id": "1d6f4a43-1823-4a28-9436-01ecdd860f39",
   "metadata": {},
   "outputs": [
    {
     "name": "stdin",
     "output_type": "stream",
     "text": [
      "Enter name:  atif\n",
      "Enter country:  pakistan\n",
      "Enter date of birth (YYYY-MM-DD):  2002-11-27\n"
     ]
    },
    {
     "name": "stdout",
     "output_type": "stream",
     "text": [
      "Name: atif\n",
      "Country: pakistan\n",
      "Age: 22\n"
     ]
    }
   ],
   "source": [
    "from datetime import date, datetime\n",
    "\n",
    "class Person:\n",
    "    def __init__(self, name, country, dob):\n",
    "        self.name = name\n",
    "        self.country = country\n",
    "        self.dob = datetime.strptime(dob, \"%Y-%m-%d\").date()\n",
    "\n",
    "    def age(self):\n",
    "        today = date.today()\n",
    "        return today.year - self.dob.year - ((today.month, today.day) < (self.dob.month, self.dob.day))\n",
    "\n",
    "name = input(\"Enter name: \")\n",
    "country = input(\"Enter country: \")\n",
    "dob = input(\"Enter date of birth (YYYY-MM-DD): \")\n",
    "\n",
    "p = Person(name, country, dob)\n",
    "print(\"Name:\", p.name)\n",
    "print(\"Country:\", p.country)\n",
    "print(\"Age:\", p.age())\n"
   ]
  },
  {
   "cell_type": "markdown",
   "id": "92dbce8e-2077-479b-8999-452b80126d30",
   "metadata": {},
   "source": [
    "### Write a Python program to create a calculator class. Include methods for basic arithmetic operations."
   ]
  },
  {
   "cell_type": "code",
   "execution_count": 5,
   "id": "f5d9894d-f07a-44de-b0c4-d64ac6cfc383",
   "metadata": {},
   "outputs": [
    {
     "name": "stdin",
     "output_type": "stream",
     "text": [
      "Enter first number:  20\n",
      "Enter second number:  10\n"
     ]
    },
    {
     "name": "stdout",
     "output_type": "stream",
     "text": [
      "Addition: 30.0\n",
      "Subtraction: 10.0\n",
      "Multiplication: 200.0\n",
      "Division: 2.0\n"
     ]
    }
   ],
   "source": [
    "class Calculator:\n",
    "    def add(self, a, b):\n",
    "        return a + b\n",
    "\n",
    "    def subtract(self, a, b):\n",
    "        return a - b\n",
    "\n",
    "    def multiply(self, a, b):\n",
    "        return a * b\n",
    "\n",
    "    def divide(self, a, b):\n",
    "        if b != 0:\n",
    "            return a / b\n",
    "        else:\n",
    "            return \"Division by zero not allowed.\"\n",
    "\n",
    "calc = Calculator()\n",
    "x = float(input(\"Enter first number: \"))\n",
    "y = float(input(\"Enter second number: \"))\n",
    "\n",
    "print(\"Addition:\", calc.add(x, y))\n",
    "print(\"Subtraction:\", calc.subtract(x, y))\n",
    "print(\"Multiplication:\", calc.multiply(x, y))\n",
    "print(\"Division:\", calc.divide(x, y))\n"
   ]
  },
  {
   "cell_type": "code",
   "execution_count": null,
   "id": "9b399dce-014b-441d-a74a-1f468cf5d3f6",
   "metadata": {},
   "outputs": [],
   "source": []
  }
 ],
 "metadata": {
  "kernelspec": {
   "display_name": "Python 3 (ipykernel)",
   "language": "python",
   "name": "python3"
  },
  "language_info": {
   "codemirror_mode": {
    "name": "ipython",
    "version": 3
   },
   "file_extension": ".py",
   "mimetype": "text/x-python",
   "name": "python",
   "nbconvert_exporter": "python",
   "pygments_lexer": "ipython3",
   "version": "3.13.5"
  }
 },
 "nbformat": 4,
 "nbformat_minor": 5
}
