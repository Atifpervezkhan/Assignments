{
 "cells": [
  {
   "cell_type": "markdown",
   "id": "5c951633-5ee7-4aa2-9a66-374df26d1f2d",
   "metadata": {},
   "source": [
    "### Write a program that accepts a string from user. Your program should count and display number of vowels in that string."
   ]
  },
  {
   "cell_type": "code",
   "execution_count": 3,
   "id": "c3a7f235-74d0-45a0-b0dc-498bd251c89d",
   "metadata": {},
   "outputs": [
    {
     "name": "stdin",
     "output_type": "stream",
     "text": [
      "Enter a string:  atif pervez\n"
     ]
    },
    {
     "name": "stdout",
     "output_type": "stream",
     "text": [
      "Number of vowels: 4\n"
     ]
    }
   ],
   "source": [
    "vowels = input(\"Enter a string: \")\n",
    "count = 0\n",
    "\n",
    "for i in vowels.lower(): \n",
    "    if i in \"aeiou\":\n",
    "        count += 1\n",
    "\n",
    "print(\"Number of vowels:\", count)"
   ]
  },
  {
   "cell_type": "code",
   "execution_count": null,
   "id": "6d37151b-dcb4-429f-9fc9-0bc46d5bc9d2",
   "metadata": {},
   "outputs": [],
   "source": []
  },
  {
   "cell_type": "markdown",
   "id": "05708943-4cbd-47c9-a41a-efef0af701f1",
   "metadata": {},
   "source": [
    "### Write a program that reads a string from keyboard and display:\n",
    "\n",
    " The number of uppercase letters in the string\n",
    "\n",
    " The number of lowercase letters in the string\n",
    "\n",
    " The number of digits in the string\n",
    "\n",
    " The number of whitespace characters in the string"
   ]
  },
  {
   "cell_type": "code",
   "execution_count": 2,
   "id": "39ddd47e-d70a-478b-a43e-d11073311204",
   "metadata": {},
   "outputs": [
    {
     "name": "stdin",
     "output_type": "stream",
     "text": [
      "Enter a string WHat is Your NaMe78\n"
     ]
    },
    {
     "name": "stdout",
     "output_type": "stream",
     "text": [
      "Number of uppercase letters: 5\n",
      "Number of lowercase letters: 9\n",
      "Number of digits: 2\n",
      "Number of whitespace characters: 3\n"
     ]
    }
   ],
   "source": [
    "text=input(\"Enter a string\")\n",
    "uppercase=0\n",
    "lowercase=0\n",
    "digits=0\n",
    "whitespace=0\n",
    "for char in text:\n",
    "    if char.isupper():\n",
    "        uppercase+=1\n",
    "    elif char.islower():\n",
    "        lowercase+=1\n",
    "    elif char.isdigit():\n",
    "        digits+=1\n",
    "    elif char.isspace():\n",
    "        whitespace+=1\n",
    "    \n",
    "    \n",
    "print(\"Number of uppercase letters:\", uppercase)\n",
    "print(\"Number of lowercase letters:\", lowercase)\n",
    "print(\"Number of digits:\", digits)\n",
    "print(\"Number of whitespace characters:\", whitespace)"
   ]
  },
  {
   "cell_type": "markdown",
   "id": "4622c2b7-a360-44cc-a721-68d0a1182d7e",
   "metadata": {},
   "source": [
    "### Write a Python program that accepts a string from user. Your program should create and display a new string where the first and last characters have been exchanged."
   ]
  },
  {
   "cell_type": "code",
   "execution_count": 6,
   "id": "1cb2179a-b018-4c7b-99e5-0e9dcf5d5b0c",
   "metadata": {},
   "outputs": [
    {
     "name": "stdin",
     "output_type": "stream",
     "text": [
      "Enter a string:  hello\n"
     ]
    },
    {
     "name": "stdout",
     "output_type": "stream",
     "text": [
      "New string: oellh\n"
     ]
    }
   ],
   "source": [
    "text = input(\"Enter a string: \")\n",
    "\n",
    "length = len(text)   \n",
    "\n",
    "new_text = \"\"\n",
    "for i in range(length):\n",
    "    if i == 0:  \n",
    "        new_text = text[length - 1]\n",
    "    elif i == length - 1:  \n",
    "        new_text += text[0]\n",
    "    else:   \n",
    "        new_text += text[i]\n",
    "\n",
    "print(\"New string:\", new_text)\n"
   ]
  },
  {
   "cell_type": "markdown",
   "id": "f2770f87-7614-4727-b280-6540768b90a9",
   "metadata": {},
   "source": [
    "### Write a Python program that accepts a string from user. Your program should create a new string in reverse of first string and display it.\n"
   ]
  },
  {
   "cell_type": "code",
   "execution_count": 7,
   "id": "cdc8a6eb-79b9-4462-be09-ed2192df6acf",
   "metadata": {},
   "outputs": [
    {
     "name": "stdin",
     "output_type": "stream",
     "text": [
      "Enter a string:  What is your name\n"
     ]
    },
    {
     "name": "stdout",
     "output_type": "stream",
     "text": [
      "Reversed string: eman ruoy si tahW\n"
     ]
    }
   ],
   "source": [
    "text = input(\"Enter a string: \")\n",
    "reversed_text = \"\"\n",
    "\n",
    "for ch in text:\n",
    "    reversed_text = ch + reversed_text\n",
    "\n",
    "print(\"Reversed string:\", reversed_text)"
   ]
  },
  {
   "cell_type": "markdown",
   "id": "d097790d-3eb4-4ee6-bd56-424348750415",
   "metadata": {},
   "source": [
    "### Write a Python program that accepts a string from user. Your program should create a new string by shifting one position to left."
   ]
  },
  {
   "cell_type": "code",
   "execution_count": 8,
   "id": "dfdf8488-8f55-4e0d-a94a-6d959a600642",
   "metadata": {},
   "outputs": [
    {
     "name": "stdin",
     "output_type": "stream",
     "text": [
      "Enter a string:  What is Your Name\n"
     ]
    },
    {
     "name": "stdout",
     "output_type": "stream",
     "text": [
      "Shifted string: hat is Your NameW\n"
     ]
    }
   ],
   "source": [
    "text = input(\"Enter a string: \")\n",
    "\n",
    "length = 0\n",
    "for _ in text:      \n",
    "    length += 1\n",
    "\n",
    "shifted = \"\"\n",
    "\n",
    "if length > 1:\n",
    "    for i in range(1, length):\n",
    "        shifted += text[i]\n",
    "    shifted += text[0]           \n",
    "else:\n",
    "    shifted = text               \n",
    "\n",
    "print(\"Shifted string:\", shifted)"
   ]
  },
  {
   "cell_type": "markdown",
   "id": "581117f5-4228-428b-a461-2dfd6c80511d",
   "metadata": {},
   "source": [
    "### Write a program that asks the user to input his name and print its initials. Assuming that the user always types first name, middle name and last name and does not include any unnecessary spaces."
   ]
  },
  {
   "cell_type": "code",
   "execution_count": 9,
   "id": "875e1505-f269-45a4-9a6d-394852a708ab",
   "metadata": {},
   "outputs": [
    {
     "name": "stdin",
     "output_type": "stream",
     "text": [
      "Enter your full name (First Middle Last):  What Is YouR NaME\n"
     ]
    },
    {
     "name": "stdout",
     "output_type": "stream",
     "text": [
      "Initials: W. I. Y. N. \n"
     ]
    }
   ],
   "source": [
    "name = input(\"Enter your full name (First Middle Last): \")\n",
    "\n",
    "initials = \"\"\n",
    "\n",
    "\n",
    "if name[0] != \" \":  \n",
    "    initials += name[0].upper() + \". \"\n",
    "\n",
    "\n",
    "for i in range(len(name)):   \n",
    "    if name[i] == \" \" and i + 1 < len(name):   \n",
    "        initials += name[i + 1].upper() + \". \"\n",
    "\n",
    "print(\"Initials:\", initials)"
   ]
  },
  {
   "cell_type": "markdown",
   "id": "ef898b81-2c2d-49e3-990a-b32e47c360f8",
   "metadata": {},
   "source": [
    "### A palindrome is a string that reads the same backward as forward. Write a program that determines whether the string is a palindrome."
   ]
  },
  {
   "cell_type": "code",
   "execution_count": 14,
   "id": "f9e408e3-49fb-4757-9e88-de326794b52f",
   "metadata": {},
   "outputs": [
    {
     "name": "stdin",
     "output_type": "stream",
     "text": [
      "Enter a string:  madam\n"
     ]
    },
    {
     "name": "stdout",
     "output_type": "stream",
     "text": [
      "The string is a palindrome \n"
     ]
    }
   ],
   "source": [
    "text = input(\"Enter a string: \")\n",
    "\n",
    "length = len(text)  \n",
    "is_palindrome = True\n",
    "\n",
    "for i in range(length // 2):\n",
    "    if text[i] != text[length - i - 1]:\n",
    "        is_palindrome = False\n",
    "        break\n",
    "\n",
    "if is_palindrome:\n",
    "    print(\"The string is a palindrome \")\n",
    "else:\n",
    "    print(\"The string is NOT a palindrome \")\n"
   ]
  },
  {
   "cell_type": "markdown",
   "id": "538e9e30-dbff-4bc8-b560-22236de70229",
   "metadata": {},
   "source": [
    "### Write a program that display the following output:\n",
    "\n",
    "SHIFT\n",
    "HIFTS\n",
    "IFTSH\n",
    "FTSHI\n",
    "TSHIF\n",
    "SHIFT"
   ]
  },
  {
   "cell_type": "code",
   "execution_count": 16,
   "id": "e9f23096-2095-4c17-8df4-55b2f7246c31",
   "metadata": {},
   "outputs": [
    {
     "name": "stdout",
     "output_type": "stream",
     "text": [
      "SHIFT HIFTS IFTSH FTSHI TSHIF SHIFT "
     ]
    }
   ],
   "source": [
    "text = \"SHIFT\"\n",
    "\n",
    "length = 0\n",
    "for _ in text:      \n",
    "    length += 1\n",
    "\n",
    "for shift in range(length + 1):   \n",
    "   \n",
    "    for i in range(length):\n",
    "        pos = (shift + i) % length  \n",
    "        print(text[pos], end=\"\")\n",
    "    print(\" \", end=\"\")  "
   ]
  },
  {
   "cell_type": "markdown",
   "id": "75ff3c6c-766e-457b-abc3-a97762892a1e",
   "metadata": {},
   "source": [
    "### Write a program in Python that accepts a string to setup a password. Your entered password must meet the following requirements:\n",
    "\n",
    "At least 8 characters long\n",
    "\n",
    "Contains at least one uppercase letter\n",
    "\n",
    "Contains at least one lowercase letter\n",
    "\n",
    "Contains at least one digit\n",
    "\n",
    "Contains at least one special character (!@#$%^&*)"
   ]
  },
  {
   "cell_type": "code",
   "execution_count": null,
   "id": "62aee0a3-fd81-4ad9-b3e7-f52b8021c2b5",
   "metadata": {},
   "outputs": [],
   "source": [
    "password = input(\"Enter a password: \")\n",
    "\n",
    "\n",
    "has_upper = False\n",
    "has_lower = False\n",
    "has_digit = False\n",
    "has_special = False\n",
    "\n",
    "special_chars = \"!@#$%^&*\"\n",
    "\n",
    "\n",
    "for ch in password:\n",
    "    if ch >= 'A' and ch <= 'Z':     \n",
    "        has_upper = True\n",
    "    elif ch >= 'a' and ch <= 'z':  \n",
    "        has_lower = True\n",
    "    elif ch >= '0' and ch <= '9':   \n",
    "        has_digit = True\n",
    "    elif ch in special_chars:       \n",
    "        has_special = True\n",
    "\n",
    "\n",
    "if len(password) >= 8 and has_upper and has_lower and has_digit and has_special:\n",
    "    print(\"Password is strong \")\n",
    "else:\n",
    "    print(\"Password is weak \")\n"
   ]
  },
  {
   "cell_type": "code",
   "execution_count": null,
   "id": "7c4d6a61-b319-4e41-bc07-b5de5b521f5c",
   "metadata": {},
   "outputs": [],
   "source": []
  }
 ],
 "metadata": {
  "kernelspec": {
   "display_name": "Python 3 (ipykernel)",
   "language": "python",
   "name": "python3"
  },
  "language_info": {
   "codemirror_mode": {
    "name": "ipython",
    "version": 3
   },
   "file_extension": ".py",
   "mimetype": "text/x-python",
   "name": "python",
   "nbconvert_exporter": "python",
   "pygments_lexer": "ipython3",
   "version": "3.13.5"
  }
 },
 "nbformat": 4,
 "nbformat_minor": 5
}
