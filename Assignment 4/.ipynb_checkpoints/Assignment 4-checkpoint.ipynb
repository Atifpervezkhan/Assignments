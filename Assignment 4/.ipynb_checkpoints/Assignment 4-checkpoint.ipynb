{
 "cells": [
  {
   "cell_type": "markdown",
   "id": "1627ce0a-431e-4c58-827e-5353379cca06",
   "metadata": {},
   "source": [
    "### Write a program to read a list of numbers and print alternate elements."
   ]
  },
  {
   "cell_type": "code",
   "execution_count": 3,
   "id": "f16b8882-34b1-4ee2-865f-a4cf4639699a",
   "metadata": {},
   "outputs": [
    {
     "name": "stdin",
     "output_type": "stream",
     "text": [
      "Enter numbers separated by space:  123 4 5\n"
     ]
    },
    {
     "name": "stdout",
     "output_type": "stream",
     "text": [
      "Alternate elements are: ['123', '5']\n"
     ]
    }
   ],
   "source": [
    "lst = input(\"Enter numbers separated by space: \").split()\n",
    "print(\"Alternate elements are:\", lst[::2])"
   ]
  },
  {
   "cell_type": "markdown",
   "id": "8da2d61b-2a51-4ccb-ab7f-431d96099a79",
   "metadata": {},
   "source": [
    "### Write a program to reverse a list without using reverse function."
   ]
  },
  {
   "cell_type": "code",
   "execution_count": 4,
   "id": "798395b5-8768-4bea-bd8e-3f13939411c0",
   "metadata": {},
   "outputs": [
    {
     "name": "stdin",
     "output_type": "stream",
     "text": [
      "Enter elements separated by space:  Abc hc\n"
     ]
    },
    {
     "name": "stdout",
     "output_type": "stream",
     "text": [
      "Reversed list: ['hc', 'Abc']\n"
     ]
    }
   ],
   "source": [
    "lst = input(\"Enter elements separated by space: \").split()\n",
    "reversed_list = lst[::-1]\n",
    "print(\"Reversed list:\", reversed_list)"
   ]
  },
  {
   "cell_type": "markdown",
   "id": "f8f2cbcf-37f0-4a38-b41b-970d4e28038b",
   "metadata": {},
   "source": [
    "### Write a program to find the largest number from a list without using max function."
   ]
  },
  {
   "cell_type": "code",
   "execution_count": 5,
   "id": "7f86e230-4bf8-4605-9d69-4a82f7e79f55",
   "metadata": {},
   "outputs": [
    {
     "name": "stdin",
     "output_type": "stream",
     "text": [
      "Enter numbers separated by space:  123 456 789\n"
     ]
    },
    {
     "name": "stdout",
     "output_type": "stream",
     "text": [
      "Largest number is: 789\n"
     ]
    }
   ],
   "source": [
    "lst = list(map(int, input(\"Enter numbers separated by space: \").split()))\n",
    "\n",
    "largest = lst[0]\n",
    "\n",
    "for num in lst:\n",
    "    if num > largest:\n",
    "        largest = num\n",
    "print(\"Largest number is:\", largest)"
   ]
  },
  {
   "cell_type": "markdown",
   "id": "5a761598-73ee-4316-97b0-6604db31fbd7",
   "metadata": {},
   "source": [
    "### Write a program to rotate elements of a list."
   ]
  },
  {
   "cell_type": "code",
   "execution_count": 6,
   "id": "5cb6725e-48fc-4f0a-bd1e-e5bb3543a143",
   "metadata": {},
   "outputs": [
    {
     "name": "stdin",
     "output_type": "stream",
     "text": [
      "Enter elements separated by space:  Abc dfr gtr\n"
     ]
    },
    {
     "name": "stdout",
     "output_type": "stream",
     "text": [
      "Rotated list: ['dfr', 'gtr', 'Abc']\n"
     ]
    }
   ],
   "source": [
    "lst = input(\"Enter elements separated by space: \").split()\n",
    "rotated = lst[1:] + lst[:1]  \n",
    "print(\"Rotated list:\", rotated)"
   ]
  },
  {
   "cell_type": "markdown",
   "id": "36736466-aefd-4f56-af79-4c52f5113a99",
   "metadata": {},
   "source": [
    "### Write a program that deletes a given word from a string."
   ]
  },
  {
   "cell_type": "code",
   "execution_count": 7,
   "id": "f4281a1b-acf1-4376-a0b0-2ea93b44ae35",
   "metadata": {},
   "outputs": [
    {
     "name": "stdin",
     "output_type": "stream",
     "text": [
      "Enter a string:  What is your name\n",
      "Enter the word to delete:  name\n"
     ]
    },
    {
     "name": "stdout",
     "output_type": "stream",
     "text": [
      "Updated string: What is your \n"
     ]
    }
   ],
   "source": [
    "s = input(\"Enter a string: \")\n",
    "word = input(\"Enter the word to delete: \")\n",
    "result = s.replace(word, \"\")\n",
    "print(\"Updated string:\", result)"
   ]
  },
  {
   "cell_type": "markdown",
   "id": "dccf6370-6d23-491f-b506-c6a5e55b28e4",
   "metadata": {},
   "source": [
    "### Write a program that accepts a date in mm/dd/yyyy format and prints it in Month day, year format."
   ]
  },
  {
   "cell_type": "code",
   "execution_count": 9,
   "id": "dfcd4774-656d-4583-9e71-4bd2ff443125",
   "metadata": {},
   "outputs": [
    {
     "name": "stdin",
     "output_type": "stream",
     "text": [
      "Enter date in mm/dd/yyyy format:  08/24/2025\n"
     ]
    }
   ],
   "source": [
    "months = {\n",
    "    \"01\": \"January\", \"02\": \"February\", \"03\": \"March\",\n",
    "    \"04\": \"April\", \"05\": \"May\", \"06\": \"June\",\n",
    "    \"07\": \"July\", \"08\": \"August\", \"09\": \"September\",\n",
    "    \"10\": \"October\", \"11\": \"November\", \"12\": \"December\"\n",
    "}\n",
    "\n",
    "date_str = input(\"Enter date in mm/dd/yyyy format: \")\n",
    "\n",
    "mm, dd, yyyy = date_str.split(\"/\")"
   ]
  },
  {
   "cell_type": "markdown",
   "id": "67fe73ff-26b8-48c0-8b29-25f0bb8f18d1",
   "metadata": {},
   "source": [
    "### Write a program to capitalize the first letter of each word in a string."
   ]
  },
  {
   "cell_type": "code",
   "execution_count": 10,
   "id": "72ab1aca-9cb1-4871-95fa-56560383c843",
   "metadata": {},
   "outputs": [
    {
     "name": "stdin",
     "output_type": "stream",
     "text": [
      "Enter a sentence:  abc is a good boy\n"
     ]
    },
    {
     "name": "stdout",
     "output_type": "stream",
     "text": [
      "Output: Abc Is A Good Boy\n"
     ]
    }
   ],
   "source": [
    "s = input(\"Enter a sentence: \")\n",
    "words = s.split()\n",
    "new_sentence = \" \".join([w.capitalize() for w in words])\n",
    "print(\"Output:\", new_sentence)"
   ]
  },
  {
   "cell_type": "markdown",
   "id": "277ef1dc-4c0d-4076-8e09-d6a49eac1f09",
   "metadata": {},
   "source": [
    "### Write a program to find sum of all rows of a matrix.\n",
    "\n",
    "### matrix = [\n",
    "    [2, 11, 7, 12],\n",
    "    [5, 2, 9, 15],\n",
    "    [8, 3, 10, 42]\n",
    "]\n"
   ]
  },
  {
   "cell_type": "code",
   "execution_count": 13,
   "id": "bb8d643d-fc21-47c1-83ab-3ab65424b454",
   "metadata": {},
   "outputs": [
    {
     "name": "stdout",
     "output_type": "stream",
     "text": [
      "Sum of row 1 = 32\n",
      "Sum of row 2 = 31\n",
      "Sum of row 3 = 63\n"
     ]
    }
   ],
   "source": [
    "matrix = [\n",
    "    [2, 11, 7, 12],\n",
    "    [5, 2, 9, 15],\n",
    "    [8, 3, 10, 42]\n",
    "]\n",
    "\n",
    "\n",
    "for i in range(len(matrix)):\n",
    "    row_sum = 0           \n",
    "    for j in range(len(matrix[i])): \n",
    "        row_sum += matrix[i][j]      \n",
    "    print(\"Sum of row\", i+1, \"=\", row_sum)\n"
   ]
  },
  {
   "cell_type": "markdown",
   "id": "b62d9a53-b293-45ff-a1b8-95ca40415ce9",
   "metadata": {},
   "source": [
    "### Write a program to add two matrices."
   ]
  },
  {
   "cell_type": "code",
   "execution_count": 16,
   "id": "fa70f3f1-a0aa-4789-a5f4-b143d23ae696",
   "metadata": {},
   "outputs": [
    {
     "name": "stdout",
     "output_type": "stream",
     "text": [
      "Resultant Matrix:\n",
      "[4, 7, 9]\n",
      "[6, 9, 10]\n",
      "[10, 11, 18]\n"
     ]
    }
   ],
   "source": [
    "A = [\n",
    "    [1, 2, 3],\n",
    "    [4, 5, 6],\n",
    "    [7, 8, 9]\n",
    "]\n",
    "\n",
    "B = [\n",
    "    [3, 5, 6],\n",
    "    [2, 4, 4],\n",
    "    [3, 3, 9]\n",
    "]\n",
    "\n",
    "C = []  \n",
    "\n",
    "for i in range(3):         \n",
    "    row = []\n",
    "    for j in range(3):    \n",
    "        row.append(A[i][j] + B[i][j])   \n",
    "    C.append(row)\n",
    "\n",
    "print(\"Resultant Matrix:\")\n",
    "for r in C:\n",
    "    print(r)\n"
   ]
  },
  {
   "cell_type": "markdown",
   "id": "ecad92ff-09b3-4bf7-8a7f-ad7f74acbb96",
   "metadata": {},
   "source": [
    "### Write a program to multiply two matrices."
   ]
  },
  {
   "cell_type": "code",
   "execution_count": 17,
   "id": "a4997904-0f13-4c1b-bd06-34825d14ffe3",
   "metadata": {},
   "outputs": [
    {
     "name": "stdout",
     "output_type": "stream",
     "text": [
      "Resultant Matrix:\n",
      "[30, 24, 18]\n",
      "[84, 69, 54]\n",
      "[138, 114, 90]\n"
     ]
    }
   ],
   "source": [
    "A = [\n",
    "    [1, 2, 3],\n",
    "    [4, 5, 6],\n",
    "    [7, 8, 9]\n",
    "]\n",
    "\n",
    "B = [\n",
    "    [9, 8, 7],\n",
    "    [6, 5, 4],\n",
    "    [3, 2, 1]\n",
    "]\n",
    "\n",
    "\n",
    "C = [\n",
    "    [0, 0, 0],\n",
    "    [0, 0, 0],\n",
    "    [0, 0, 0]\n",
    "]\n",
    "\n",
    "\n",
    "for i in range(3):       \n",
    "    for j in range(3):   \n",
    "        for k in range(3):   \n",
    "            C[i][j] += A[i][k] * B[k][j]\n",
    "\n",
    "\n",
    "print(\"Resultant Matrix:\")\n",
    "for r in C:\n",
    "    print(r)\n"
   ]
  },
  {
   "cell_type": "code",
   "execution_count": null,
   "id": "e5ce8336-abf6-4cf4-a126-8f24308a7686",
   "metadata": {},
   "outputs": [],
   "source": []
  }
 ],
 "metadata": {
  "kernelspec": {
   "display_name": "Python 3 (ipykernel)",
   "language": "python",
   "name": "python3"
  },
  "language_info": {
   "codemirror_mode": {
    "name": "ipython",
    "version": 3
   },
   "file_extension": ".py",
   "mimetype": "text/x-python",
   "name": "python",
   "nbconvert_exporter": "python",
   "pygments_lexer": "ipython3",
   "version": "3.13.5"
  }
 },
 "nbformat": 4,
 "nbformat_minor": 5
}
