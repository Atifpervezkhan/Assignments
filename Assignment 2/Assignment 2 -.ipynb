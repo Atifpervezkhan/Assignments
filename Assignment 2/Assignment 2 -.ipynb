{
 "cells": [
  {
   "cell_type": "markdown",
   "id": "7847c97e-2657-4d98-a862-e689bebfb1fd",
   "metadata": {},
   "source": [
    "### Print Your Name with Father Name and Date of Birth using Escape Sequence"
   ]
  },
  {
   "cell_type": "code",
   "execution_count": 1,
   "id": "366b5d84-413f-46b8-84c2-47edaa70ea6f",
   "metadata": {},
   "outputs": [
    {
     "name": "stdout",
     "output_type": "stream",
     "text": [
      "Name:\tAtif Pervez\n",
      "Father's Name:\tMr. Pervez\n",
      "Date of Birth:\t23-08-1999\n"
     ]
    }
   ],
   "source": [
    "print(\"Name:\\tAtif Pervez\")\n",
    "print(\"Father's Name:\\tMr. Pervez\")\n",
    "print(\"Date of Birth:\\t23-08-1999\")"
   ]
  },
  {
   "cell_type": "markdown",
   "id": "05d4c4c1-cedb-4581-a0d1-9210fc767a7a",
   "metadata": {},
   "source": [
    "### Write your small bio using variables and print"
   ]
  },
  {
   "cell_type": "code",
   "execution_count": 3,
   "id": "acc25399-7271-4bee-816d-cd01cdd2ad49",
   "metadata": {},
   "outputs": [
    {
     "name": "stdout",
     "output_type": "stream",
     "text": [
      "My name is Atif Pervez\n",
      "I am 24 years old.\n",
      "I am a UI/UX Designer and Cloud Enthusiast\n",
      "My hobbies are: Reading, Running and Learning New Skills\n"
     ]
    }
   ],
   "source": [
    "name = \"Atif Pervez\"\n",
    "age = 24\n",
    "profession = \"UI/UX Designer and Cloud Enthusiast\"\n",
    "hobby = \"Reading, Running and Learning New Skills\"\n",
    "\n",
    "print(\"My name is\", name)\n",
    "print(\"I am\", age, \"years old.\")\n",
    "print(\"I am a\", profession)\n",
    "print(\"My hobbies are:\", hobby)"
   ]
  },
  {
   "cell_type": "markdown",
   "id": "cf1e791f-4b44-4ba1-947f-7f230f76a135",
   "metadata": {},
   "source": [
    "###  Program using all Python Operators"
   ]
  },
  {
   "cell_type": "code",
   "execution_count": 4,
   "id": "c6d387af-caf7-4021-9c44-bffd5222d52d",
   "metadata": {},
   "outputs": [
    {
     "name": "stdout",
     "output_type": "stream",
     "text": [
      "Addition: 19\n",
      "Subtraction: 11\n",
      "Multiplication: 60\n",
      "Division: 3.75\n",
      "Floor Division: 3\n",
      "Modulus: 3\n",
      "Exponent: 50625\n"
     ]
    }
   ],
   "source": [
    "a = 15\n",
    "b = 4\n",
    "print(\"Addition:\", a + b)\n",
    "print(\"Subtraction:\", a - b)\n",
    "print(\"Multiplication:\", a * b)\n",
    "print(\"Division:\", a / b)\n",
    "print(\"Floor Division:\", a // b)\n",
    "print(\"Modulus:\", a % b)\n",
    "print(\"Exponent:\", a ** b)"
   ]
  },
  {
   "cell_type": "code",
   "execution_count": 5,
   "id": "5c42881e-739d-411f-bf28-17abb05a9f63",
   "metadata": {},
   "outputs": [
    {
     "name": "stdout",
     "output_type": "stream",
     "text": [
      "Equal: False\n",
      "Not Equal: True\n",
      "Greater: True\n",
      "Less: False\n"
     ]
    }
   ],
   "source": [
    "print(\"Equal:\", a == b)\n",
    "print(\"Not Equal:\", a != b)\n",
    "print(\"Greater:\", a > b)\n",
    "print(\"Less:\", a < b)"
   ]
  },
  {
   "cell_type": "code",
   "execution_count": 6,
   "id": "947b0216-a978-4e27-9ae2-963de36d9d6c",
   "metadata": {},
   "outputs": [
    {
     "name": "stdout",
     "output_type": "stream",
     "text": [
      "AND: True\n",
      "OR: True\n",
      "NOT: False\n"
     ]
    }
   ],
   "source": [
    "print(\"AND:\", a > 10 and b < 5)\n",
    "print(\"OR:\", a > 20 or b < 5)\n",
    "print(\"NOT:\", not(a > b))\n"
   ]
  },
  {
   "cell_type": "code",
   "execution_count": 7,
   "id": "791640d8-7b7d-40df-8da5-b2d7d90aa811",
   "metadata": {},
   "outputs": [
    {
     "name": "stdout",
     "output_type": "stream",
     "text": [
      "x after += 5: 15\n"
     ]
    }
   ],
   "source": [
    "x = 10\n",
    "x += 5\n",
    "print(\"x after += 5:\", x)"
   ]
  },
  {
   "cell_type": "code",
   "execution_count": 8,
   "id": "9ea303dc-b721-480c-8a23-66b49e0e5960",
   "metadata": {},
   "outputs": [
    {
     "name": "stdout",
     "output_type": "stream",
     "text": [
      "Is 3 in list? True\n",
      "Is 7 not in list? True\n"
     ]
    }
   ],
   "source": [
    "list1 = [1, 2, 3, 4, 5]\n",
    "print(\"Is 3 in list?\", 3 in list1)\n",
    "print(\"Is 7 not in list?\", 7 not in list1)\n"
   ]
  },
  {
   "cell_type": "code",
   "execution_count": 9,
   "id": "81607df5-3d48-446a-b8a1-3b0b3f02ccb2",
   "metadata": {},
   "outputs": [
    {
     "name": "stdout",
     "output_type": "stream",
     "text": [
      "a is y: True\n",
      "a is not b: True\n"
     ]
    }
   ],
   "source": [
    "y = a\n",
    "print(\"a is y:\", a is y)\n",
    "print(\"a is not b:\", a is not b)"
   ]
  },
  {
   "cell_type": "markdown",
   "id": "1faa6911-2e75-4c4d-98fe-bb88ab7a5719",
   "metadata": {},
   "source": [
    "### Marks, Total Marks, and Percentage"
   ]
  },
  {
   "cell_type": "code",
   "execution_count": 10,
   "id": "1d94ad59-8bb0-44a4-9f43-fa06088cca0a",
   "metadata": {},
   "outputs": [],
   "source": [
    "english = 85\n",
    "islamiat = 90\n",
    "maths = 95\n",
    "total_marks = 300\n",
    "\n",
    "obtained_marks = english + islamiat + maths\n",
    "percentage = (obtained_marks / total_marks) * 100"
   ]
  },
  {
   "cell_type": "code",
   "execution_count": 11,
   "id": "c26d03b3-3350-45d1-90c7-53fea93ea93d",
   "metadata": {},
   "outputs": [
    {
     "name": "stdout",
     "output_type": "stream",
     "text": [
      "Obtained Marks: 270\n",
      "Percentage: 90.0 %\n"
     ]
    }
   ],
   "source": [
    "\n",
    "print(\"Obtained Marks:\", obtained_marks)\n",
    "print(\"Percentage:\", percentage, \"%\")"
   ]
  },
  {
   "cell_type": "code",
   "execution_count": null,
   "id": "f6964b3e-91d2-4c7a-89e5-6592ea43fa2d",
   "metadata": {},
   "outputs": [],
   "source": []
  },
  {
   "cell_type": "markdown",
   "id": "3c01bc59-ec49-4bb1-8b87-81580bec2e94",
   "metadata": {},
   "source": [
    "### A company decided to give bonus of 5% to employee if his/her year of service is more than 5 years. Ask user for their salary and year of service and print the net bonus amount."
   ]
  },
  {
   "cell_type": "code",
   "execution_count": 12,
   "id": "f8721fd0-8b96-44ef-ad1a-816103ab2e52",
   "metadata": {},
   "outputs": [
    {
     "name": "stdin",
     "output_type": "stream",
     "text": [
      "Enter your salary:  20000\n",
      "Enter your years of service:  6\n"
     ]
    },
    {
     "name": "stdout",
     "output_type": "stream",
     "text": [
      "Bonus Amount: 1000.0\n"
     ]
    }
   ],
   "source": [
    "salary = float(input(\"Enter your salary: \"))\n",
    "years = int(input(\"Enter your years of service: \"))\n",
    "\n",
    "if years > 5:\n",
    "    bonus = salary * 0.05\n",
    "    print(\"Bonus Amount:\", bonus)\n",
    "else:\n",
    "    print(\"No Bonus\")"
   ]
  },
  {
   "cell_type": "markdown",
   "id": "98dbe0cf-170b-41f6-8947-a9d411c142a9",
   "metadata": {},
   "source": [
    "### Voting Eligibility"
   ]
  },
  {
   "cell_type": "code",
   "execution_count": 13,
   "id": "d6ca71d9-14a2-4e2a-90dc-4fa243469c1e",
   "metadata": {},
   "outputs": [
    {
     "name": "stdin",
     "output_type": "stream",
     "text": [
      "Enter your age:  20\n"
     ]
    },
    {
     "name": "stdout",
     "output_type": "stream",
     "text": [
      "You are eligible for voting.\n"
     ]
    }
   ],
   "source": [
    "age = int(input(\"Enter your age: \"))\n",
    "\n",
    "if age >= 18:\n",
    "    print(\"You are eligible for voting.\")\n",
    "else:\n",
    "    print(\"You are not eligible for voting.\")"
   ]
  },
  {
   "cell_type": "markdown",
   "id": "a0df550a-372f-4761-b93b-15e0b9224f30",
   "metadata": {},
   "source": [
    "### Even or Odd"
   ]
  },
  {
   "cell_type": "code",
   "execution_count": 14,
   "id": "6572da93-095b-4b24-8654-9f17368e6f33",
   "metadata": {},
   "outputs": [
    {
     "name": "stdin",
     "output_type": "stream",
     "text": [
      "Enter a number:  40000\n"
     ]
    },
    {
     "name": "stdout",
     "output_type": "stream",
     "text": [
      "40000 is Even\n"
     ]
    }
   ],
   "source": [
    "num = int(input(\"Enter a number: \"))\n",
    "\n",
    "if num % 2 == 0:\n",
    "    print(num, \"is Even\")\n",
    "else:\n",
    "    print(num, \"is Odd\")"
   ]
  },
  {
   "cell_type": "markdown",
   "id": "88065400-a5b1-471d-b427-2fa606a456b0",
   "metadata": {},
   "source": [
    "### Divisible by 7 or not"
   ]
  },
  {
   "cell_type": "code",
   "execution_count": 1,
   "id": "baaeda6a-4e7e-4449-af06-096b079f6d1b",
   "metadata": {},
   "outputs": [
    {
     "name": "stdin",
     "output_type": "stream",
     "text": [
      "Enter a number:  70\n"
     ]
    },
    {
     "name": "stdout",
     "output_type": "stream",
     "text": [
      "70 is divisible by 7\n"
     ]
    }
   ],
   "source": [
    "num = int(input(\"Enter a number: \"))\n",
    "\n",
    "if num % 7 == 0:\n",
    "    print(num, \"is divisible by 7\")\n",
    "else:\n",
    "    print(num, \"is not divisible by 7\")"
   ]
  },
  {
   "cell_type": "markdown",
   "id": "e2c85100-ead1-45a5-9576-f41b703dc2e1",
   "metadata": {},
   "source": [
    "### Multiple of 5 → Hello / else → Bye"
   ]
  },
  {
   "cell_type": "code",
   "execution_count": 2,
   "id": "f82290b9-41d4-49a0-8434-fbb617ba1b7b",
   "metadata": {},
   "outputs": [
    {
     "name": "stdin",
     "output_type": "stream",
     "text": [
      "Enter a number:  25\n"
     ]
    },
    {
     "name": "stdout",
     "output_type": "stream",
     "text": [
      "Hello\n"
     ]
    }
   ],
   "source": [
    "num = int(input(\"Enter a number: \"))\n",
    "\n",
    "if num % 5 == 0:\n",
    "    print(\"Hello\")\n",
    "else:\n",
    "    print(\"Bye\")\n"
   ]
  },
  {
   "cell_type": "markdown",
   "id": "ebd2f9d2-80b9-44fb-b25f-69a48e477aa1",
   "metadata": {},
   "source": [
    "### Last digit of a number"
   ]
  },
  {
   "cell_type": "code",
   "execution_count": 3,
   "id": "9bca79c7-881f-46cc-95f4-2be081bc74a8",
   "metadata": {},
   "outputs": [
    {
     "name": "stdin",
     "output_type": "stream",
     "text": [
      "Enter a number:  200031\n"
     ]
    },
    {
     "name": "stdout",
     "output_type": "stream",
     "text": [
      "Last digit is: 1\n"
     ]
    }
   ],
   "source": [
    "num = int(input(\"Enter a number: \"))\n",
    "\n",
    "last_digit = num % 10\n",
    "print(\"Last digit is:\", last_digit)"
   ]
  },
  {
   "cell_type": "markdown",
   "id": "d79b9577-8226-4c46-b747-a7f03ea9bac5",
   "metadata": {},
   "source": [
    "### Take values of length and breadth of a rectangle from user and print if it is square or rectangle."
   ]
  },
  {
   "cell_type": "code",
   "execution_count": 4,
   "id": "70daf8a8-da0a-4ae1-82e2-2810afdac8af",
   "metadata": {},
   "outputs": [
    {
     "name": "stdin",
     "output_type": "stream",
     "text": [
      "Enter length:  25\n",
      "Enter breadth:  24\n"
     ]
    },
    {
     "name": "stdout",
     "output_type": "stream",
     "text": [
      "It is a Rectangle\n"
     ]
    }
   ],
   "source": [
    "length = int(input(\"Enter length: \"))\n",
    "breadth = int(input(\"Enter breadth: \"))\n",
    "\n",
    "if length == breadth:\n",
    "    print(\"It is a Square\")\n",
    "else:\n",
    "    print(\"It is a Rectangle\")"
   ]
  },
  {
   "cell_type": "markdown",
   "id": "d0fdd93c-5dee-4698-9e99-5752cb51f69e",
   "metadata": {},
   "source": [
    "### Take two int values from user and print greatest among them."
   ]
  },
  {
   "cell_type": "code",
   "execution_count": 5,
   "id": "5384ef8e-6a5a-4138-b2ae-58d31fbb222f",
   "metadata": {},
   "outputs": [
    {
     "name": "stdin",
     "output_type": "stream",
     "text": [
      "Enter first number:  22\n",
      "Enter second number:  22222\n"
     ]
    },
    {
     "name": "stdout",
     "output_type": "stream",
     "text": [
      "22222 is greatest\n"
     ]
    }
   ],
   "source": [
    "a = int(input(\"Enter first number: \"))\n",
    "b = int(input(\"Enter second number: \"))\n",
    "\n",
    "if a > b:\n",
    "    print(a, \"is greatest\")\n",
    "elif b > a:\n",
    "    print(b, \"is greatest\")\n",
    "else:\n",
    "    print(\"Both are equal\")"
   ]
  },
  {
   "cell_type": "markdown",
   "id": "3d1de328-6911-45c8-a27c-952237815305",
   "metadata": {},
   "source": [
    " ### shop will give discount of 10% if the cost of purchased quantity is more than 1000. Ask user for quantity Suppose, one unit will cost 100. Judge and print total cost for user."
   ]
  },
  {
   "cell_type": "code",
   "execution_count": 1,
   "id": "fe862872-ef07-49e1-a316-127896d28477",
   "metadata": {},
   "outputs": [
    {
     "name": "stdin",
     "output_type": "stream",
     "text": [
      "Enter quantity:  20\n"
     ]
    },
    {
     "name": "stdout",
     "output_type": "stream",
     "text": [
      "Total cost: 1800.0\n"
     ]
    }
   ],
   "source": [
    "quantity = int(input(\"Enter quantity: \"))\n",
    "cost_per_unit = 100\n",
    "total_cost = quantity * cost_per_unit\n",
    "\n",
    "if total_cost > 1000:\n",
    "    discount = total_cost * 0.10\n",
    "    total_cost -= discount\n",
    "\n",
    "print(\"Total cost:\", total_cost)"
   ]
  },
  {
   "cell_type": "markdown",
   "id": "b6bfae40-a820-4224-b1bd-75359d6bf75c",
   "metadata": {},
   "source": [
    "### A school has following rules for grading system:\n",
    "a. Below 25 - F\n",
    "\n",
    "b. 25 to 45 - E\n",
    "\n",
    "c. 45 to 50 - D\n",
    "\n",
    "d. 50 to 60 - C\n",
    "\n",
    "e. 60 to 80 - B\n",
    "\n",
    "f. Above 80 - A\n",
    "\n",
    "Ask user to enter marks and print the corresponding grade."
   ]
  },
  {
   "cell_type": "code",
   "execution_count": 1,
   "id": "e6bd305c-c544-4d57-b688-43a61f4285f3",
   "metadata": {},
   "outputs": [
    {
     "name": "stdin",
     "output_type": "stream",
     "text": [
      "Enter your marks:  222\n"
     ]
    },
    {
     "name": "stdout",
     "output_type": "stream",
     "text": [
      "Your Grade is: A\n"
     ]
    }
   ],
   "source": [
    "marks = int(input(\"Enter your marks: \"))\n",
    "\n",
    "if marks < 25:\n",
    "    grade = \"F\"\n",
    "elif marks < 45:\n",
    "    grade = \"E\"\n",
    "elif marks < 50:\n",
    "    grade = \"D\"\n",
    "elif marks < 60:\n",
    "    grade = \"C\"\n",
    "elif marks < 80:\n",
    "    grade = \"B\"\n",
    "else:\n",
    "    grade = \"A\"\n",
    "\n",
    "print(\"Your Grade is:\", grade)"
   ]
  },
  {
   "cell_type": "markdown",
   "id": "29011b9c-e2f1-43f4-913b-d4ce442ecc1e",
   "metadata": {},
   "source": [
    "### A student will not be allowed to sit in exam if his/her attendence is less than 75%.\n",
    "\n",
    "Take following input from user\n",
    "\n",
    "Number of classes held\n",
    "\n",
    "Number of classes attended."
   ]
  },
  {
   "cell_type": "code",
   "execution_count": 1,
   "id": "e5b0ccc1-534c-4598-b090-23465570f1fa",
   "metadata": {},
   "outputs": [
    {
     "name": "stdin",
     "output_type": "stream",
     "text": [
      "Enter number of classes held:  2\n",
      "Enter number of classes attended:  1\n"
     ]
    },
    {
     "name": "stdout",
     "output_type": "stream",
     "text": [
      "Attendance Percentage: 50.0 %\n",
      "Not allowed to sit in exam\n"
     ]
    }
   ],
   "source": [
    "classes_held = int(input(\"Enter number of classes held: \"))\n",
    "classes_attended = int(input(\"Enter number of classes attended: \"))\n",
    "\n",
    "attendance = (classes_attended / classes_held) * 100\n",
    "print(\"Attendance Percentage:\", attendance, \"%\")\n",
    "\n",
    "if attendance >= 75:\n",
    "    print(\"Allowed to sit in exam\")\n",
    "else:\n",
    "    print(\"Not allowed to sit in exam\")"
   ]
  },
  {
   "cell_type": "markdown",
   "id": "0a7b55cf-86a7-406c-8361-3285516cc159",
   "metadata": {},
   "source": [
    "### Attendance with Medical Cause\n",
    "Modify the above question to allow student to sit if he/she has medical cause. Ask user if he/she has medical cause or not ( 'Y' or 'N' ) and print accordingly.\n"
   ]
  },
  {
   "cell_type": "code",
   "execution_count": 2,
   "id": "9820ede8-5261-4a2c-92bd-9cacf29f2534",
   "metadata": {},
   "outputs": [
    {
     "name": "stdin",
     "output_type": "stream",
     "text": [
      "Enter number of classes held:  5\n",
      "Enter number of classes attended:  2\n"
     ]
    },
    {
     "name": "stdout",
     "output_type": "stream",
     "text": [
      "Attendance Percentage: 40.0 %\n"
     ]
    },
    {
     "name": "stdin",
     "output_type": "stream",
     "text": [
      "Do you have medical cause? (Y/N):  y\n"
     ]
    },
    {
     "name": "stdout",
     "output_type": "stream",
     "text": [
      "Allowed to sit in exam (Medical Reason)\n"
     ]
    }
   ],
   "source": [
    "classes_held = int(input(\"Enter number of classes held: \"))\n",
    "classes_attended = int(input(\"Enter number of classes attended: \"))\n",
    "\n",
    "attendance = (classes_attended / classes_held) * 100\n",
    "print(\"Attendance Percentage:\", attendance, \"%\")\n",
    "\n",
    "if attendance >= 75:\n",
    "    print(\"Allowed to sit in exam\")\n",
    "else:\n",
    "    medical = input(\"Do you have medical cause? (Y/N): \").upper()\n",
    "    if medical == \"Y\":\n",
    "        print(\"Allowed to sit in exam (Medical Reason)\")\n",
    "    else:\n",
    "        print(\"Not allowed to sit in exam\")"
   ]
  },
  {
   "cell_type": "markdown",
   "id": "10c67b42-96e8-48ab-8144-849784eb1e86",
   "metadata": {},
   "source": [
    "### Leap Year Check\n",
    "Write a program to check if a year is leap year or not.\n",
    "If a year is divisible by 4 then it is leap year but if the year is century year like 2000, 1900, 2100 then it must be divisible by 400."
   ]
  },
  {
   "cell_type": "code",
   "execution_count": 3,
   "id": "c0a7104b-9103-4120-ae6f-e0c650859d08",
   "metadata": {},
   "outputs": [
    {
     "name": "stdin",
     "output_type": "stream",
     "text": [
      "Enter a year:  2004\n"
     ]
    },
    {
     "name": "stdout",
     "output_type": "stream",
     "text": [
      "2004 is a Leap Year\n"
     ]
    }
   ],
   "source": [
    "year = int(input(\"Enter a year: \"))\n",
    "\n",
    "if (year % 4 == 0 and year % 100 != 0) or (year % 400 == 0):\n",
    "    print(year, \"is a Leap Year\")\n",
    "else:\n",
    "    print(year, \"is not a Leap Year\")"
   ]
  },
  {
   "cell_type": "markdown",
   "id": "20061acc-ca38-4bfc-aa22-a966813a2129",
   "metadata": {},
   "source": [
    "### Ask user to enter age, gender ( M or F ), marital status ( Y or N ) and then using following rules print their place of service."
   ]
  },
  {
   "cell_type": "code",
   "execution_count": 4,
   "id": "abaa037c-6ae4-4fad-8cd2-32eff237678d",
   "metadata": {},
   "outputs": [
    {
     "name": "stdin",
     "output_type": "stream",
     "text": [
      "Enter age:  20\n",
      "Enter gender (M/F):  m\n",
      "Married? (Y/N):  y\n"
     ]
    },
    {
     "name": "stdout",
     "output_type": "stream",
     "text": [
      "He can work anywhere\n"
     ]
    }
   ],
   "source": [
    "age = int(input(\"Enter age: \"))\n",
    "gender = input(\"Enter gender (M/F): \").upper()\n",
    "marital_status = input(\"Married? (Y/N): \").upper()\n",
    "\n",
    "if gender == \"F\":\n",
    "    print(\"She will work only in Urban Areas\")\n",
    "elif gender == \"M\":\n",
    "    if 20 <= age <= 40:\n",
    "        print(\"He can work anywhere\")\n",
    "    elif 40 < age <= 60:\n",
    "        print(\"He will work in Urban Areas only\")\n",
    "    else:\n",
    "        print(\"ERROR\")\n",
    "else:\n",
    "    print(\"Invalid Input\")"
   ]
  },
  {
   "cell_type": "markdown",
   "id": "51ebddb1-aaa3-4a37-92b9-696c2d927782",
   "metadata": {},
   "source": [
    "### Write a program to calculate the electricity bill (accept number of unit from user) according to the following criteria : Unit Price uptp 100 units no charge Next 200 units Rs 5 per unit After 200 units Rs 10 per unit (For example if input unit is 350 than total bill amount is Rs.3500 (For example if input unit is 97 than total bill amount is Rs.0 (For example if input unit is 150 than total bill amount is Rs.750"
   ]
  },
  {
   "cell_type": "code",
   "execution_count": 1,
   "id": "20752ce8-7315-4d05-8753-37714cc3351b",
   "metadata": {},
   "outputs": [
    {
     "name": "stdin",
     "output_type": "stream",
     "text": [
      "Enter number of units:  200\n"
     ]
    },
    {
     "name": "stdout",
     "output_type": "stream",
     "text": [
      "Total Bill: Rs. 500\n"
     ]
    }
   ],
   "source": [
    "units = int(input(\"Enter number of units: \"))\n",
    "bill = 0\n",
    "\n",
    "if units <= 100:\n",
    "    bill = 0\n",
    "elif units <= 300:\n",
    "    bill = (units - 100) * 5\n",
    "else:\n",
    "    bill = (200 * 5) + ((units - 300) * 10)\n",
    "\n",
    "print(\"Total Bill: Rs.\", bill)"
   ]
  },
  {
   "cell_type": "markdown",
   "id": "26dad8a1-772f-4aa2-9ec8-fff91ae7f68b",
   "metadata": {},
   "source": [
    "### Oldest and Youngest among 3 people"
   ]
  },
  {
   "cell_type": "code",
   "execution_count": 1,
   "id": "fb47024e-91a3-4f5f-b7e8-face529a6349",
   "metadata": {},
   "outputs": [
    {
     "name": "stdin",
     "output_type": "stream",
     "text": [
      "Enter age of person 1:  22\n",
      "Enter age of person 2:  25\n",
      "Enter age of person 3:  29\n"
     ]
    },
    {
     "name": "stdout",
     "output_type": "stream",
     "text": [
      "Oldest age is: 29\n",
      "Youngest age is: 22\n"
     ]
    }
   ],
   "source": [
    "age1 = int(input(\"Enter age of person 1: \"))\n",
    "age2 = int(input(\"Enter age of person 2: \"))\n",
    "age3 = int(input(\"Enter age of person 3: \"))\n",
    "\n",
    "oldest = max(age1, age2, age3)\n",
    "youngest = min(age1, age2, age3)\n",
    "\n",
    "print(\"Oldest age is:\", oldest)\n",
    "print(\"Youngest age is:\", youngest)"
   ]
  },
  {
   "cell_type": "code",
   "execution_count": null,
   "id": "3659d5d0-8a59-4877-a7b9-9c53900f84e0",
   "metadata": {},
   "outputs": [],
   "source": []
  }
 ],
 "metadata": {
  "kernelspec": {
   "display_name": "Python 3 (ipykernel)",
   "language": "python",
   "name": "python3"
  },
  "language_info": {
   "codemirror_mode": {
    "name": "ipython",
    "version": 3
   },
   "file_extension": ".py",
   "mimetype": "text/x-python",
   "name": "python",
   "nbconvert_exporter": "python",
   "pygments_lexer": "ipython3",
   "version": "3.13.5"
  }
 },
 "nbformat": 4,
 "nbformat_minor": 5
}
