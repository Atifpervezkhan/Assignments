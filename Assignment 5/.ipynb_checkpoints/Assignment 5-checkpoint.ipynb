{
 "cells": [
  {
   "cell_type": "markdown",
   "id": "7e1f5c97-2aa0-4308-b144-b9f9b687ec67",
   "metadata": {},
   "source": [
    "### Write a Python program to print the numbers from 1 to 10 using a for loop."
   ]
  },
  {
   "cell_type": "code",
   "execution_count": 1,
   "id": "fff2941d-17c6-4d58-8c8f-07400e9c71c9",
   "metadata": {},
   "outputs": [
    {
     "name": "stdout",
     "output_type": "stream",
     "text": [
      "1\n",
      "2\n",
      "3\n",
      "4\n",
      "5\n",
      "6\n",
      "7\n",
      "8\n",
      "9\n",
      "10\n"
     ]
    }
   ],
   "source": [
    "for i in range(1, 11):\n",
    "    print(i)"
   ]
  },
  {
   "cell_type": "markdown",
   "id": "9ce79440-a0dd-46e8-9165-0cd3355a9df3",
   "metadata": {},
   "source": [
    "### Write a Python program to print the numbers from 20 to 1 using a while loop."
   ]
  },
  {
   "cell_type": "code",
   "execution_count": 2,
   "id": "d1dd0a02-1dee-45a2-8b50-ba00b373b74d",
   "metadata": {},
   "outputs": [
    {
     "name": "stdout",
     "output_type": "stream",
     "text": [
      "20\n",
      "19\n",
      "18\n",
      "17\n",
      "16\n",
      "15\n",
      "14\n",
      "13\n",
      "12\n",
      "11\n",
      "10\n",
      "9\n",
      "8\n",
      "7\n",
      "6\n",
      "5\n",
      "4\n",
      "3\n",
      "2\n",
      "1\n"
     ]
    }
   ],
   "source": [
    "n = 20\n",
    "while n >= 1:\n",
    "    print(n)\n",
    "    n -= 1"
   ]
  },
  {
   "cell_type": "markdown",
   "id": "ca39f3ad-fcbc-4d5a-b13c-787f15d0397c",
   "metadata": {},
   "source": [
    "### Write a program to print even numbers from 1 to 10."
   ]
  },
  {
   "cell_type": "code",
   "execution_count": 3,
   "id": "6790bd95-7087-411e-a91b-9e13e8f5a96d",
   "metadata": {},
   "outputs": [
    {
     "name": "stdout",
     "output_type": "stream",
     "text": [
      "2\n",
      "4\n",
      "6\n",
      "8\n",
      "10\n"
     ]
    }
   ],
   "source": [
    "for i in range(2, 11, 2):\n",
    "    print(i)\n"
   ]
  },
  {
   "cell_type": "markdown",
   "id": "a78f0111-10a9-49f1-85fd-ef7c84f8c09e",
   "metadata": {},
   "source": [
    "### Write a program that prompts the user to enter a number n and prints all the numbers from 1 to n."
   ]
  },
  {
   "cell_type": "code",
   "execution_count": 6,
   "id": "b778c5f2-2fa9-4653-875d-b5091d3309c0",
   "metadata": {},
   "outputs": [
    {
     "name": "stdin",
     "output_type": "stream",
     "text": [
      "Enter a number:  20\n"
     ]
    },
    {
     "name": "stdout",
     "output_type": "stream",
     "text": [
      "1\n",
      "2\n",
      "3\n",
      "4\n",
      "5\n",
      "6\n",
      "7\n",
      "8\n",
      "9\n",
      "10\n",
      "11\n",
      "12\n",
      "13\n",
      "14\n",
      "15\n",
      "16\n",
      "17\n",
      "18\n",
      "19\n",
      "20\n"
     ]
    }
   ],
   "source": [
    "n = int(input(\"Enter a number: \"))\n",
    "for i in range(1, n + 1):\n",
    "    print(i)"
   ]
  },
  {
   "cell_type": "markdown",
   "id": "7d546968-fe97-486a-a3d2-24549f566b43",
   "metadata": {},
   "source": [
    "### Write a program that prompts the user to enter a number n, and then prints all the odd numbers between 1 and n."
   ]
  },
  {
   "cell_type": "code",
   "execution_count": 12,
   "id": "6e746cf2-079d-4686-a6d5-3ea2e135d941",
   "metadata": {},
   "outputs": [
    {
     "name": "stdin",
     "output_type": "stream",
     "text": [
      "Enter a number:  10\n"
     ]
    },
    {
     "name": "stdout",
     "output_type": "stream",
     "text": [
      "1\n",
      "3\n",
      "5\n",
      "7\n",
      "9\n"
     ]
    }
   ],
   "source": [
    "n = int(input(\"Enter a number: \"))\n",
    "for i in range(1, n + 1, 2):\n",
    "    print(i)"
   ]
  },
  {
   "cell_type": "markdown",
   "id": "de59c20e-3f06-4e06-9078-54dad60b7095",
   "metadata": {},
   "source": [
    "### Write a program that prints 'Happy Birthday!' five times on screen."
   ]
  },
  {
   "cell_type": "code",
   "execution_count": 13,
   "id": "f532bac8-e17d-4492-a1fb-fc6acf87eb02",
   "metadata": {},
   "outputs": [
    {
     "name": "stdout",
     "output_type": "stream",
     "text": [
      "Happy Birthday!\n",
      "Happy Birthday!\n",
      "Happy Birthday!\n",
      "Happy Birthday!\n",
      "Happy Birthday!\n"
     ]
    }
   ],
   "source": [
    "for _ in range(5):\n",
    "    print(\"Happy Birthday!\")"
   ]
  },
  {
   "cell_type": "markdown",
   "id": "ce9b47c2-9ba8-47b1-956d-aaf2a30b066c",
   "metadata": {},
   "source": [
    "### Write a program that takes a number n as input from the user and generates the first n terms of the series formed by squaring the natural numbers."
   ]
  },
  {
   "cell_type": "code",
   "execution_count": 14,
   "id": "da58b29c-3b78-4641-b82a-bb2826c35a5a",
   "metadata": {},
   "outputs": [
    {
     "name": "stdin",
     "output_type": "stream",
     "text": [
      "Enter a number:  10\n"
     ]
    },
    {
     "name": "stdout",
     "output_type": "stream",
     "text": [
      "The first 10 terms of the series are:\n",
      "1 4 9 16 25 36 49 64 81 100 \n"
     ]
    }
   ],
   "source": [
    "n = int(input(\"Enter a number: \"))\n",
    "print(f\"The first {n} terms of the series are:\")\n",
    "for i in range(1, n + 1):\n",
    "    print(i * i, end=\" \")\n",
    "print()"
   ]
  },
  {
   "cell_type": "markdown",
   "id": "bfafaf9e-dc2c-4b17-b0ed-661fbbc7ecde",
   "metadata": {},
   "source": [
    "### Write a program that prompts the user to input a number and prints its multiplication table."
   ]
  },
  {
   "cell_type": "code",
   "execution_count": 15,
   "id": "c3fc82a7-326f-4f53-9c6a-f18b81507d37",
   "metadata": {},
   "outputs": [
    {
     "name": "stdin",
     "output_type": "stream",
     "text": [
      "Enter a number:  10\n"
     ]
    },
    {
     "name": "stdout",
     "output_type": "stream",
     "text": [
      "10 x 1 = 10\n",
      "10 x 2 = 20\n",
      "10 x 3 = 30\n",
      "10 x 4 = 40\n",
      "10 x 5 = 50\n",
      "10 x 6 = 60\n",
      "10 x 7 = 70\n",
      "10 x 8 = 80\n",
      "10 x 9 = 90\n",
      "10 x 10 = 100\n"
     ]
    }
   ],
   "source": [
    "num = int(input(\"Enter a number: \"))\n",
    "for i in range(1, 11):\n",
    "    print(f\"{num} x {i} = {num * i}\")"
   ]
  },
  {
   "cell_type": "markdown",
   "id": "e6065953-2f0e-4d89-b06e-4f7134e29492",
   "metadata": {},
   "source": [
    "### Write a Python program to print the first 8 terms of an arithmetic progression starting with 3 and having a common difference of 4."
   ]
  },
  {
   "cell_type": "code",
   "execution_count": 16,
   "id": "10de4781-53d0-416e-8cb7-fc2d0365a251",
   "metadata": {},
   "outputs": [
    {
     "name": "stdout",
     "output_type": "stream",
     "text": [
      "3 7 11 15 19 23 27 31 \n"
     ]
    }
   ],
   "source": [
    "start = 3\n",
    "diff = 4\n",
    "terms = 8\n",
    "for k in range(terms):\n",
    "    print(start + k * diff, end=\" \")\n",
    "print()"
   ]
  },
  {
   "cell_type": "markdown",
   "id": "fde61a23-98fd-47e2-9ac7-892aaa4dc581",
   "metadata": {},
   "source": [
    "### Write a Python program to print the first 6 terms of a geometric sequence starting with 2 and having a common ratio of 3."
   ]
  },
  {
   "cell_type": "code",
   "execution_count": 17,
   "id": "3145f571-d0c6-4116-aa4e-c150fdfedc87",
   "metadata": {},
   "outputs": [
    {
     "name": "stdout",
     "output_type": "stream",
     "text": [
      "2 6 18 54 162 486 \n"
     ]
    }
   ],
   "source": [
    "start = 2\n",
    "ratio = 3\n",
    "terms = 6\n",
    "value = start\n",
    "for _ in range(terms):\n",
    "    print(value, end=\" \")\n",
    "    value *= ratio\n",
    "print()"
   ]
  },
  {
   "cell_type": "markdown",
   "id": "cdc23c8a-c0ba-4747-88b0-f946cae17643",
   "metadata": {},
   "source": [
    "### Write a program that asks the user for a positive integer value and calculates the sum of all the integers from 1 up to the number entered."
   ]
  },
  {
   "cell_type": "code",
   "execution_count": 18,
   "id": "4013101f-00ac-4735-8106-2ac52d5159be",
   "metadata": {},
   "outputs": [
    {
     "name": "stdin",
     "output_type": "stream",
     "text": [
      "Enter a positive integer:  10\n"
     ]
    },
    {
     "name": "stdout",
     "output_type": "stream",
     "text": [
      "The sum of integers from 1 to 10 is: 55\n"
     ]
    }
   ],
   "source": [
    "n = int(input(\"Enter a positive integer: \"))\n",
    "total = 0\n",
    "for i in range(1, n + 1):\n",
    "    total += i\n",
    "print(f\"The sum of integers from 1 to {n} is: {total}\")"
   ]
  },
  {
   "cell_type": "markdown",
   "id": "d1eb9592-e943-4b31-845c-9652441297a4",
   "metadata": {},
   "source": [
    "### Write a program that takes a positive integer N as input and calculates the sum of the reciprocals of all numbers from 1 up to N. Display the final sum."
   ]
  },
  {
   "cell_type": "code",
   "execution_count": 19,
   "id": "1440b59d-c5e8-4bd1-aef6-7ffd5faec620",
   "metadata": {},
   "outputs": [
    {
     "name": "stdin",
     "output_type": "stream",
     "text": [
      "Enter a positive integer:  10\n"
     ]
    },
    {
     "name": "stdout",
     "output_type": "stream",
     "text": [
      "The sum of reciprocals from 1 to 10 is: 2.93\n"
     ]
    }
   ],
   "source": [
    "n = int(input(\"Enter a positive integer: \"))\n",
    "s = 0.0\n",
    "for i in range(1, n + 1):\n",
    "    s += 1 / i\n",
    "print(f\"The sum of reciprocals from 1 to {n} is: {s:.2f}\")"
   ]
  },
  {
   "cell_type": "markdown",
   "id": "a49e0b86-cc47-45a8-9eb7-430e2305d2ab",
   "metadata": {},
   "source": [
    "### Write a program that prompts the user to enter a number and repeats this process 5 times. Accumulate the numbers entered and display the final running total."
   ]
  },
  {
   "cell_type": "code",
   "execution_count": 20,
   "id": "8afa0880-cc76-490f-af0d-0c87b0109326",
   "metadata": {},
   "outputs": [
    {
     "name": "stdin",
     "output_type": "stream",
     "text": [
      "Enter a number:  10\n",
      "Enter a number:  10\n",
      "Enter a number:  5\n",
      "Enter a number:  20\n",
      "Enter a number:  70\n"
     ]
    },
    {
     "name": "stdout",
     "output_type": "stream",
     "text": [
      "The final running total is: 115\n"
     ]
    }
   ],
   "source": [
    "total = 0\n",
    "for _ in range(5):\n",
    "    x = float(input(\"Enter a number: \"))\n",
    "    total += x\n",
    "if total.is_integer():\n",
    "    print(f\"The final running total is: {int(total)}\")\n",
    "else:\n",
    "    print(f\"The final running total is: {total}\")"
   ]
  },
  {
   "cell_type": "markdown",
   "id": "da12e881-74e5-41c2-8122-a40e4c39d158",
   "metadata": {},
   "source": [
    "### Write a program that prompts the user to enter a positive integer and calculates its factorial. Handle negative input and the special case 0."
   ]
  },
  {
   "cell_type": "code",
   "execution_count": 21,
   "id": "e505a3fe-4d62-4ddf-b0ca-3c855fbc2db9",
   "metadata": {},
   "outputs": [
    {
     "name": "stdin",
     "output_type": "stream",
     "text": [
      "Enter an integer:  10\n"
     ]
    },
    {
     "name": "stdout",
     "output_type": "stream",
     "text": [
      "The factorial of 10 is 3628800.\n"
     ]
    }
   ],
   "source": [
    "n = int(input(\"Enter an integer: \"))\n",
    "if n < 0:\n",
    "    print(\"Factorial does not exist for negative numbers.\")\n",
    "elif n == 0:\n",
    "    print(\"The factorial of 0 is 1.\")\n",
    "else:\n",
    "    fact = 1\n",
    "    for i in range(1, n + 1):\n",
    "        fact *= i\n",
    "    print(f\"The factorial of {n} is {fact}.\")"
   ]
  },
  {
   "cell_type": "markdown",
   "id": "b797da31-207c-4d3a-9035-6ba692c5532d",
   "metadata": {},
   "source": [
    "### Write a Python program that prompts the user to enter a base number and an exponent, and then calculates the power of the base to the exponent without using ** or math.pow(), handling both positive and negative exponents."
   ]
  },
  {
   "cell_type": "code",
   "execution_count": 22,
   "id": "ee42761c-880c-4ebb-ae47-5b1cee102037",
   "metadata": {},
   "outputs": [
    {
     "name": "stdin",
     "output_type": "stream",
     "text": [
      "Enter the base:  20\n",
      "Enter the exponent (integer):  2\n"
     ]
    },
    {
     "name": "stdout",
     "output_type": "stream",
     "text": [
      "20.0 raised to the power 2 is 400.0\n"
     ]
    }
   ],
   "source": [
    "base = float(input(\"Enter the base: \"))\n",
    "exp = int(input(\"Enter the exponent (integer): \"))\n",
    "if exp == 0:\n",
    "    result = 1.0\n",
    "elif exp > 0:\n",
    "    result = 1.0\n",
    "    for _ in range(exp):\n",
    "        result *= base\n",
    "else:\n",
    "    if base == 0:\n",
    "        print(\"Error: 0 cannot be raised to a negative power.\")\n",
    "        result = None\n",
    "    else:\n",
    "        result = 1.0\n",
    "        for _ in range(-exp):\n",
    "            result *= base\n",
    "        result = 1.0 / result\n",
    "if result is not None:\n",
    "    print(f\"{base} raised to the power {exp} is {result}\")"
   ]
  },
  {
   "cell_type": "code",
   "execution_count": null,
   "id": "b410c038-08cc-4a00-a0e7-a000f8670a22",
   "metadata": {},
   "outputs": [],
   "source": []
  }
 ],
 "metadata": {
  "kernelspec": {
   "display_name": "Python 3 (ipykernel)",
   "language": "python",
   "name": "python3"
  },
  "language_info": {
   "codemirror_mode": {
    "name": "ipython",
    "version": 3
   },
   "file_extension": ".py",
   "mimetype": "text/x-python",
   "name": "python",
   "nbconvert_exporter": "python",
   "pygments_lexer": "ipython3",
   "version": "3.13.5"
  }
 },
 "nbformat": 4,
 "nbformat_minor": 5
}
