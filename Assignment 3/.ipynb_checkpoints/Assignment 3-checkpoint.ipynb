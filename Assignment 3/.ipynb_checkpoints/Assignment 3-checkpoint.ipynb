{
 "cells": [
  {
   "cell_type": "markdown",
   "id": "5c951633-5ee7-4aa2-9a66-374df26d1f2d",
   "metadata": {},
   "source": [
    "### Write a program that accepts a string from user. Your program should count and display number of vowels in that string."
   ]
  },
  {
   "cell_type": "code",
   "execution_count": 3,
   "id": "c3a7f235-74d0-45a0-b0dc-498bd251c89d",
   "metadata": {},
   "outputs": [
    {
     "name": "stdin",
     "output_type": "stream",
     "text": [
      "Enter a string:  atif pervez\n"
     ]
    },
    {
     "name": "stdout",
     "output_type": "stream",
     "text": [
      "Number of vowels: 4\n"
     ]
    }
   ],
   "source": [
    "vowels = input(\"Enter a string: \")\n",
    "count = 0\n",
    "\n",
    "for i in vowels.lower():   # convert input to lowercase so 'A' and 'a' both count\n",
    "    if i in \"aeiou\":\n",
    "        count += 1\n",
    "\n",
    "print(\"Number of vowels:\", count)"
   ]
  },
  {
   "cell_type": "code",
   "execution_count": null,
   "id": "6d37151b-dcb4-429f-9fc9-0bc46d5bc9d2",
   "metadata": {},
   "outputs": [],
   "source": []
  },
  {
   "cell_type": "markdown",
   "id": "05708943-4cbd-47c9-a41a-efef0af701f1",
   "metadata": {},
   "source": [
    "### Write a program that reads a string from keyboard and display:\n",
    "\n",
    " The number of uppercase letters in the string\n",
    "\n",
    " The number of lowercase letters in the string\n",
    "\n",
    " The number of digits in the string\n",
    "\n",
    " The number of whitespace characters in the string"
   ]
  },
  {
   "cell_type": "code",
   "execution_count": null,
   "id": "39ddd47e-d70a-478b-a43e-d11073311204",
   "metadata": {},
   "outputs": [],
   "source": [
    "text=input(\"Enter a string\")\n",
    "uppercase=0\n",
    "lowercase=0\n",
    "digits=0\n",
    "whitespace=0\n",
    "for char in text:\n",
    "    if char.isupper():\n",
    "        uppercase+=1\n",
    "    elif char.islower():\n",
    "        lowercase+=1\n",
    "    elif char.isdigit():\n",
    "        digits+=1\n",
    "    elif char.isspace():\n",
    "        whitespace+=1\n",
    "    \n",
    "    print(\"Number of uppercase letters:\", uppercase)\n",
    "    print(\"Number of lowercase letters:\", lowercase)\n",
    "    print(\"Number of digits:\", digits)\n",
    "    print(\"Number of whitespace characters:\", whitespace)"
   ]
  },
  {
   "cell_type": "code",
   "execution_count": null,
   "id": "a40437d7-93f4-4fa5-867e-20db8a45c2ce",
   "metadata": {},
   "outputs": [],
   "source": []
  }
 ],
 "metadata": {
  "kernelspec": {
   "display_name": "Python 3 (ipykernel)",
   "language": "python",
   "name": "python3"
  },
  "language_info": {
   "codemirror_mode": {
    "name": "ipython",
    "version": 3
   },
   "file_extension": ".py",
   "mimetype": "text/x-python",
   "name": "python",
   "nbconvert_exporter": "python",
   "pygments_lexer": "ipython3",
   "version": "3.13.5"
  }
 },
 "nbformat": 4,
 "nbformat_minor": 5
}
